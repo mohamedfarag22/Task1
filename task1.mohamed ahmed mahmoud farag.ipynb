{
 "cells": [
  {
   "cell_type": "code",
   "execution_count": 1,
   "id": "6f9514d7",
   "metadata": {},
   "outputs": [
    {
     "name": "stdout",
     "output_type": "stream",
     "text": [
      "[1505, 1540, 1575, 1610, 1645, 1680, 1715, 1750, 1785, 1820, 1855, 1890, 1925, 1960, 1995, 2030, 2065, 2100, 2135, 2170, 2205, 2240, 2275, 2310, 2345, 2380, 2415, 2450, 2485, 2520, 2555, 2590, 2625, 2660, 2695]\n"
     ]
    }
   ],
   "source": [
    "NewList=[]\n",
    "for i in range (1500,2701):\n",
    "    if (i%7==0) and (i%5==0):\n",
    "        NewList.append(i)  \n",
    "        \n",
    "print(NewList)"
   ]
  },
  {
   "cell_type": "code",
   "execution_count": 2,
   "id": "fb93287f",
   "metadata": {},
   "outputs": [
    {
     "name": "stdout",
     "output_type": "stream",
     "text": [
      "if you need convert the temperatures from celsius to fahrenheit Enter 1 ,else if you need from celsius to fahrenheit Enter 21\n",
      "write the temperatures by celsius 30\n",
      "your temperatures by fahrenheit is 86.0\n"
     ]
    }
   ],
   "source": [
    "choies=int(input(\"if you need convert the temperatures from celsius to fahrenheit Enter 1 ,else if you need from celsius to fahrenheit Enter 2\"))\n",
    "if choies==1:\n",
    "    temp=int(input(\"write the temperatures by celsius \"))\n",
    "    f=(temp/5)*(9)+32\n",
    "    print(f\"your temperatures by fahrenheit is {f}\")\n",
    "elif choies==2:\n",
    "    fahre=int(input(\"write the temperatures by fahrenheit \"))\n",
    "    c=(fahre-32)/9*5\n",
    "    print(f\"your temperatures by celsius is {c}\")"
   ]
  },
  {
   "cell_type": "code",
   "execution_count": 3,
   "id": "660504cf",
   "metadata": {},
   "outputs": [
    {
     "name": "stdout",
     "output_type": "stream",
     "text": [
      "\n",
      "* \n",
      "* * \n",
      "* * * \n",
      "* * * * \n",
      "* * * * * \n",
      "* * * * \n",
      "* * * \n",
      "* * \n",
      "* \n"
     ]
    }
   ],
   "source": [
    "n=5;\n",
    "for i in range(n):\n",
    "    for j in range(i):\n",
    "        print ('* ',end='')\n",
    "    print('')\n",
    "for i in range(n,0,-1):\n",
    "    for j in range(i):\n",
    "        print('* ', end=\"\")\n",
    "    print('')"
   ]
  },
  {
   "cell_type": "code",
   "execution_count": 4,
   "id": "98cd34fe",
   "metadata": {},
   "outputs": [
    {
     "name": "stdout",
     "output_type": "stream",
     "text": [
      "write the word you need and i reverse it :mohamed\n",
      "demahom\n"
     ]
    }
   ],
   "source": [
    "word=input(\"write the word you need and i reverse it :\")\n",
    "print(word[::-1])"
   ]
  },
  {
   "cell_type": "code",
   "execution_count": 5,
   "id": "6afd2a7e",
   "metadata": {},
   "outputs": [
    {
     "name": "stdout",
     "output_type": "stream",
     "text": [
      "Enter first number: 4\n",
      "Enter second number: 5\n",
      "Enter Third number: 9\n",
      "9\n"
     ]
    }
   ],
   "source": [
    "def maximum(a, b, c):\n",
    "    list = [a, b, c]\n",
    "    return max(list)\n",
    "a=int(input(\"Enter first number: \"))\n",
    "b=int(input(\"Enter second number: \"))\n",
    "c=int(input(\"Enter Third number: \"))\n",
    "print(maximum(a,b,c))"
   ]
  },
  {
   "cell_type": "code",
   "execution_count": 6,
   "id": "2508b0c0",
   "metadata": {},
   "outputs": [
    {
     "name": "stdout",
     "output_type": "stream",
     "text": [
      "10\n"
     ]
    }
   ],
   "source": [
    "list=[1,2,3,4]\n",
    "def summ(num):\n",
    "    sum= 0\n",
    "    for i in num:\n",
    "         sum+= i\n",
    "    return sum\n",
    "print(summ((list)))"
   ]
  },
  {
   "cell_type": "code",
   "execution_count": 7,
   "id": "fea53eda",
   "metadata": {},
   "outputs": [
    {
     "name": "stdout",
     "output_type": "stream",
     "text": [
      "0 1 2 4 5 "
     ]
    }
   ],
   "source": [
    "for x in range(6):\n",
    "    if (x == 3 or x==6):\n",
    "        continue\n",
    "    print(x,end=' ')"
   ]
  },
  {
   "cell_type": "code",
   "execution_count": 8,
   "id": "4e096eaf",
   "metadata": {},
   "outputs": [
    {
     "name": "stdout",
     "output_type": "stream",
     "text": [
      "Enter a number: 5\n",
      "The factorial is 120\n",
      "None\n"
     ]
    }
   ],
   "source": [
    "def factorial(num):\n",
    "    if num < 0:\n",
    "        print(\"Sorry, factorial does not exist for negative numbers\")\n",
    "    elif num == 0:\n",
    "        print(\"The factorial of 0 is 1\")\n",
    "    else:\n",
    "        factorial = 1\n",
    "        for i in range(1,num + 1):\n",
    "            factorial = factorial*i\n",
    "        print(\"The factorial is\",factorial)\n",
    "num = int(input(\"Enter a number: \"))\n",
    "print(factorial(num))"
   ]
  },
  {
   "cell_type": "code",
   "execution_count": 9,
   "id": "54d5d6d5",
   "metadata": {},
   "outputs": [
    {
     "name": "stdout",
     "output_type": "stream",
     "text": [
      "[1, 2, 3, 4, 5]\n"
     ]
    }
   ],
   "source": [
    "def unique_list(l):\n",
    "    x = []\n",
    "    for a in l:\n",
    "        if a not in x:\n",
    "            x.append(a)\n",
    "    return x\n",
    "\n",
    "print(unique_list([1,2,3,3,3,3,4,5]))"
   ]
  },
  {
   "cell_type": "code",
   "execution_count": 10,
   "id": "99cc2327",
   "metadata": {},
   "outputs": [
    {
     "name": "stdout",
     "output_type": "stream",
     "text": [
      "25\n",
      "48\n"
     ]
    }
   ],
   "source": [
    "r = lambda a : a + 15\n",
    "print(r(10))\n",
    "r = lambda x, y : x * y\n",
    "print(r(12, 4))"
   ]
  },
  {
   "cell_type": "code",
   "execution_count": 11,
   "id": "296278d0",
   "metadata": {},
   "outputs": [
    {
     "name": "stdout",
     "output_type": "stream",
     "text": [
      "name: mohamed ahmed mahmoud farag\n"
     ]
    }
   ],
   "source": [
    "print(\"name: mohamed ahmed mahmoud farag\")"
   ]
  }
 ],
 "metadata": {
  "kernelspec": {
   "display_name": "Python 3 (ipykernel)",
   "language": "python",
   "name": "python3"
  },
  "language_info": {
   "codemirror_mode": {
    "name": "ipython",
    "version": 3
   },
   "file_extension": ".py",
   "mimetype": "text/x-python",
   "name": "python",
   "nbconvert_exporter": "python",
   "pygments_lexer": "ipython3",
   "version": "3.10.3"
  }
 },
 "nbformat": 4,
 "nbformat_minor": 5
}
